{
  "cells": [
    {
      "cell_type": "code",
      "execution_count": 13,
      "metadata": {
        "colab": {
          "base_uri": "https://localhost:8080/"
        },
        "id": "7-pRDWteGhjM",
        "outputId": "f8495de8-9a01-41a8-a355-83fb736092f0"
      },
      "outputs": [
        {
          "name": "stderr",
          "output_type": "stream",
          "text": [
            "[nltk_data] Downloading package stopwords to /root/nltk_data...\n",
            "[nltk_data]   Package stopwords is already up-to-date!\n",
            "[nltk_data] Downloading package punkt to /root/nltk_data...\n",
            "[nltk_data]   Unzipping tokenizers/punkt.zip.\n"
          ]
        },
        {
          "data": {
            "text/plain": [
              "True"
            ]
          },
          "execution_count": 13,
          "metadata": {},
          "output_type": "execute_result"
        }
      ],
      "source": [
        "import pandas as pd\n",
        "from nltk.corpus import stopwords\n",
        "from nltk.tokenize import word_tokenize\n",
        "import nltk\n",
        "nltk.download('stopwords')\n",
        "nltk.download('punkt')"
      ]
    },
    {
      "cell_type": "code",
      "execution_count": 4,
      "metadata": {
        "id": "33ehB5p2GsrI"
      },
      "outputs": [],
      "source": [
        "df = pd.read_csv('/content/respuestas.csv')"
      ]
    },
    {
      "cell_type": "code",
      "execution_count": 5,
      "metadata": {
        "colab": {
          "base_uri": "https://localhost:8080/"
        },
        "id": "R5GQUecEG6mn",
        "outputId": "baf3e8bc-3343-4ad4-8427-50c6ffd3b869"
      },
      "outputs": [
        {
          "name": "stdout",
          "output_type": "stream",
          "text": [
            "                                               Tweet  \\\n",
            "0                                            🔴ALERTA   \n",
            "1  O Fluminense não vai lançar um plano de sócios...   \n",
            "2  Los culpables tanto de la pandemia de la gripe...   \n",
            "3  Quase dois anos de pandemia e ainda não temos ...   \n",
            "4  Cuanto apuestan que en algún momento del otro ...   \n",
            "\n",
            "                                           Respuesta Clasificación  \n",
            "0  Malo. Este tweet muestra un cenário desolador ...          Malo  \n",
            "1  Malo. Esta publicación refleja sentimientos ne...          Malo  \n",
            "2  Malo. Este tweet refleja malos sentimientos po...          Malo  \n",
            "3  Malo. El tweet muestra una perspectiva negativ...          Malo  \n",
            "4  Malo. Esta pandemia ha causado mucho dolor y s...          Malo  \n"
          ]
        }
      ],
      "source": [
        "print(df.head(5))"
      ]
    },
    {
      "cell_type": "code",
      "execution_count": 10,
      "metadata": {
        "id": "-aYipyUXG_nn"
      },
      "outputs": [],
      "source": [
        "# Obtener las stopwords en el idioma correspondiente\n",
        "stopwords_esp = set(stopwords.words('spanish'))"
      ]
    },
    {
      "cell_type": "code",
      "execution_count": 11,
      "metadata": {
        "id": "DrzEFkwLHYVw"
      },
      "outputs": [],
      "source": [
        "# Crear un diccionario para contar las palabras\n",
        "word_count = {}"
      ]
    },
    {
      "cell_type": "code",
      "execution_count": 14,
      "metadata": {
        "id": "dbx3XyAlHaRZ"
      },
      "outputs": [],
      "source": [
        "# Iterar sobre las respuestas y realizar el conteo de palabras\n",
        "for respuesta in df['Respuesta']:\n",
        "    tokens = word_tokenize(respuesta.lower())\n",
        "    for token in tokens:\n",
        "        if token not in stopwords_esp and token.isalpha():\n",
        "            if token in word_count:\n",
        "                word_count[token] += 1\n",
        "            else:\n",
        "                word_count[token] = 1"
      ]
    },
    {
      "cell_type": "code",
      "execution_count": 15,
      "metadata": {
        "id": "80Cz9gZ0Hsz4"
      },
      "outputs": [],
      "source": [
        "df_word_count = pd.DataFrame.from_dict(word_count, orient='index', columns=['Frecuencia'])"
      ]
    },
    {
      "cell_type": "code",
      "execution_count": 16,
      "metadata": {
        "id": "aQJ0wuJmHxFC"
      },
      "outputs": [],
      "source": [
        "# Ordenar el DataFrame por frecuencia descendente\n",
        "df_word_count = df_word_count.sort_values(by='Frecuencia', ascending=False)\n"
      ]
    },
    {
      "cell_type": "code",
      "execution_count": 18,
      "metadata": {
        "colab": {
          "base_uri": "https://localhost:8080/"
        },
        "id": "NCruLY_DHz8q",
        "outputId": "155d6df2-487e-4eb0-f911-4fce38de5247"
      },
      "outputs": [
        {
          "name": "stdout",
          "output_type": "stream",
          "text": [
            "              Frecuencia\n",
            "pandemia            1451\n",
            "refleja             1240\n",
            "malo                1207\n",
            "sentimientos        1107\n",
            "tweet               1019\n",
            "...                  ...\n",
            "manera                38\n",
            "respecto              38\n",
            "dinero                38\n",
            "mayor                 38\n",
            "desarrollo            38\n",
            "\n",
            "[100 rows x 1 columns]\n"
          ]
        }
      ],
      "source": [
        "print(df_word_count.head(100))"
      ]
    },
    {
      "cell_type": "code",
      "execution_count": null,
      "metadata": {
        "id": "EjRriJHZH98Z"
      },
      "outputs": [],
      "source": [
        "df_word_count.to_csv('Resultados.csv')"
      ]
    }
  ],
  "metadata": {
    "colab": {
      "provenance": []
    },
    "kernelspec": {
      "display_name": "Python 3",
      "name": "python3"
    },
    "language_info": {
      "name": "python"
    }
  },
  "nbformat": 4,
  "nbformat_minor": 0
}
